{
 "cells": [
  {
   "cell_type": "code",
   "execution_count": 1,
   "id": "f2d80c83-489a-44d9-8a45-518c1b5bd90c",
   "metadata": {},
   "outputs": [],
   "source": [
    "import pandas as pd\n",
    "import numpy as np\n",
    "import re\n",
    "import warnings\n",
    "warnings.filterwarnings('ignore')"
   ]
  },
  {
   "cell_type": "code",
   "execution_count": 2,
   "id": "8a94000b-358e-4a81-9030-121d72d46557",
   "metadata": {},
   "outputs": [],
   "source": [
    "pd.set_option('display.max_colwidth', 3000)"
   ]
  },
  {
   "cell_type": "code",
   "execution_count": 3,
   "id": "284065ff-5f77-432a-b988-d61b0497bf61",
   "metadata": {},
   "outputs": [],
   "source": [
    "df = pd.read_csv('raw_data.csv')"
   ]
  },
  {
   "cell_type": "markdown",
   "id": "d24fee7b-a34f-475c-aa00-40154f2a042a",
   "metadata": {},
   "source": [
    "### Data Cleaning "
   ]
  },
  {
   "cell_type": "code",
   "execution_count": 4,
   "id": "7a8338f0-16c3-4e3b-ada0-72027ebf622a",
   "metadata": {},
   "outputs": [
    {
     "data": {
      "text/html": [
       "<div>\n",
       "<style scoped>\n",
       "    .dataframe tbody tr th:only-of-type {\n",
       "        vertical-align: middle;\n",
       "    }\n",
       "\n",
       "    .dataframe tbody tr th {\n",
       "        vertical-align: top;\n",
       "    }\n",
       "\n",
       "    .dataframe thead th {\n",
       "        text-align: right;\n",
       "    }\n",
       "</style>\n",
       "<table border=\"1\" class=\"dataframe\">\n",
       "  <thead>\n",
       "    <tr style=\"text-align: right;\">\n",
       "      <th></th>\n",
       "      <th>Listing ID</th>\n",
       "      <th>Title</th>\n",
       "      <th>Description</th>\n",
       "      <th>Price</th>\n",
       "      <th>Sq Ft Price</th>\n",
       "      <th>Summary</th>\n",
       "    </tr>\n",
       "  </thead>\n",
       "  <tbody>\n",
       "    <tr>\n",
       "      <th>0</th>\n",
       "      <td>cardid71632357</td>\n",
       "      <td>2 BHK Apartment for Sale in Kelambakkam Chennai</td>\n",
       "      <td>Located in Kelambakkam, OMR, Incor PBEL City is an upcoming housing project, that offers 2BHK and 3BHK flats. It is developed by Incor Infrastructure to facilitate both, undisturbed private moments and exuberant camaraderie of its residents. PBEL City is lavishly designed with modern techniques and features with the best of industry specifications.</td>\n",
       "      <td>₹ 39.9 Lac</td>\n",
       "      <td>₹4,000 per sqft</td>\n",
       "      <td>SUPER AREA 997 sqft STATUS Ready to Move TRANSACTION New Property FURNISHING Unfurnished CAR PARKING 1 Covered BATHROOM 2</td>\n",
       "    </tr>\n",
       "    <tr>\n",
       "      <th>1</th>\n",
       "      <td>cardid73795355</td>\n",
       "      <td>2 BHK Builder Floor for Sale in Mudichur Chennai</td>\n",
       "      <td>Premium Apartment located in vibrant surroundings that fit right into your budget, located next to Tambaram near to Urapakkam new bus stand on Mudichur Tambaram main road. Has supreme connectivity to GST road, Oragadam road and outer ring road. it has very close access to schools, colleges well known educational institutions. good transportation facilities near by markets and other entertainments. Apartments are designed in a very spacious, vasthu compliant with natural light and Breeze.</td>\n",
       "      <td>₹ 50.6 Lac</td>\n",
       "      <td>₹5,800 per sqft</td>\n",
       "      <td>SUPER AREA 873 sqft UNDER CONSTRUCTION Poss. by Sep '24 TRANSACTION New Property FURNISHING Unfurnished BATHROOM 2</td>\n",
       "    </tr>\n",
       "    <tr>\n",
       "      <th>2</th>\n",
       "      <td>cardid72552613</td>\n",
       "      <td>1 BHK Builder Floor for Sale in Kundrathur Chennai</td>\n",
       "      <td>Karthick Amore is the project where you can discover the epitome of city living at affordable prices. The homes in the project has spacious rooms and is constructed with 100% red bricks. Karthick Amore is located near top rated matriculation, CBSE and ICSE schools. Hospitals, Temples, Cricket grounds are all situated within 1Km Radius from the project.</td>\n",
       "      <td>₹ 27.4 Lac</td>\n",
       "      <td>₹5,300 per sqft</td>\n",
       "      <td>SUPER AREA 517 sqft STATUS Ready to Move FLOOR Ground out of 2 TRANSACTION New Property FURNISHING Semi-Furnished BATHROOM 1</td>\n",
       "    </tr>\n",
       "    <tr>\n",
       "      <th>3</th>\n",
       "      <td>cardid74193103</td>\n",
       "      <td>2 BHK Apartment for Sale in Chettipunyam Chennai</td>\n",
       "      <td>Strategically located - Right opposite to Mahindra World City, which is home to 67 companies &amp; one lakh employeesTuscany apartments offer you with the best of possibilities - Urban Connectivity &amp; Suburban Tranquility.</td>\n",
       "      <td>₹ 29.2 Lac</td>\n",
       "      <td>₹4,747 per sqft</td>\n",
       "      <td>SUPER AREA 616 sqft UNDER CONSTRUCTION Poss. by Apr '25 TRANSACTION New Property FURNISHING Unfurnished CAR PARKING 1 Covered BATHROOM 1</td>\n",
       "    </tr>\n",
       "    <tr>\n",
       "      <th>4</th>\n",
       "      <td>cardid73511737</td>\n",
       "      <td>2 BHK Apartment for Sale in Kovur Chennai</td>\n",
       "      <td>Jain Advaya is a project by Jain Housing &amp; Constructions Ltd in Chennai. It is a Under Construction project. Jain Advaya offers some of the most conveniently designed Apartment. Located in Kovur, it is a residential project. It has 122 units. There is 1 building in this project. Jain Advaya offers some of the most exclusive 2 BHK, 3 BHK. As per the area plan, units are in the size range of 733.0 - 1274.0 sq.ft.. Launched in December 2023, Jain Advaya is slated for possession in Dec, 2025. The address of Jain Advaya is Kovur.</td>\n",
       "      <td>₹ 47.7 Lac</td>\n",
       "      <td>₹6,504 per sqft</td>\n",
       "      <td>SUPER AREA 733 sqft UNDER CONSTRUCTION Poss. by Dec '24 TRANSACTION New Property FURNISHING Unfurnished BATHROOM 2</td>\n",
       "    </tr>\n",
       "  </tbody>\n",
       "</table>\n",
       "</div>"
      ],
      "text/plain": [
       "       Listing ID                                               Title  \\\n",
       "0  cardid71632357     2 BHK Apartment for Sale in Kelambakkam Chennai   \n",
       "1  cardid73795355    2 BHK Builder Floor for Sale in Mudichur Chennai   \n",
       "2  cardid72552613  1 BHK Builder Floor for Sale in Kundrathur Chennai   \n",
       "3  cardid74193103    2 BHK Apartment for Sale in Chettipunyam Chennai   \n",
       "4  cardid73511737           2 BHK Apartment for Sale in Kovur Chennai   \n",
       "\n",
       "                                                                                                                                                                                                                                                                                                                                                                                                                                                                                                                                          Description  \\\n",
       "0                                                                                                                                                                                      Located in Kelambakkam, OMR, Incor PBEL City is an upcoming housing project, that offers 2BHK and 3BHK flats. It is developed by Incor Infrastructure to facilitate both, undisturbed private moments and exuberant camaraderie of its residents. PBEL City is lavishly designed with modern techniques and features with the best of industry specifications.   \n",
       "1                                        Premium Apartment located in vibrant surroundings that fit right into your budget, located next to Tambaram near to Urapakkam new bus stand on Mudichur Tambaram main road. Has supreme connectivity to GST road, Oragadam road and outer ring road. it has very close access to schools, colleges well known educational institutions. good transportation facilities near by markets and other entertainments. Apartments are designed in a very spacious, vasthu compliant with natural light and Breeze.   \n",
       "2                                                                                                                                                                                  Karthick Amore is the project where you can discover the epitome of city living at affordable prices. The homes in the project has spacious rooms and is constructed with 100% red bricks. Karthick Amore is located near top rated matriculation, CBSE and ICSE schools. Hospitals, Temples, Cricket grounds are all situated within 1Km Radius from the project.   \n",
       "3                                                                                                                                                                                                                                                                                                                           Strategically located - Right opposite to Mahindra World City, which is home to 67 companies & one lakh employeesTuscany apartments offer you with the best of possibilities - Urban Connectivity & Suburban Tranquility.   \n",
       "4  Jain Advaya is a project by Jain Housing & Constructions Ltd in Chennai. It is a Under Construction project. Jain Advaya offers some of the most conveniently designed Apartment. Located in Kovur, it is a residential project. It has 122 units. There is 1 building in this project. Jain Advaya offers some of the most exclusive 2 BHK, 3 BHK. As per the area plan, units are in the size range of 733.0 - 1274.0 sq.ft.. Launched in December 2023, Jain Advaya is slated for possession in Dec, 2025. The address of Jain Advaya is Kovur.   \n",
       "\n",
       "        Price      Sq Ft Price  \\\n",
       "0  ₹ 39.9 Lac  ₹4,000 per sqft   \n",
       "1  ₹ 50.6 Lac  ₹5,800 per sqft   \n",
       "2  ₹ 27.4 Lac  ₹5,300 per sqft   \n",
       "3  ₹ 29.2 Lac  ₹4,747 per sqft   \n",
       "4  ₹ 47.7 Lac  ₹6,504 per sqft   \n",
       "\n",
       "                                                                                                                                    Summary  \n",
       "0                 SUPER AREA 997 sqft STATUS Ready to Move TRANSACTION New Property FURNISHING Unfurnished CAR PARKING 1 Covered BATHROOM 2  \n",
       "1                        SUPER AREA 873 sqft UNDER CONSTRUCTION Poss. by Sep '24 TRANSACTION New Property FURNISHING Unfurnished BATHROOM 2  \n",
       "2              SUPER AREA 517 sqft STATUS Ready to Move FLOOR Ground out of 2 TRANSACTION New Property FURNISHING Semi-Furnished BATHROOM 1  \n",
       "3  SUPER AREA 616 sqft UNDER CONSTRUCTION Poss. by Apr '25 TRANSACTION New Property FURNISHING Unfurnished CAR PARKING 1 Covered BATHROOM 1  \n",
       "4                        SUPER AREA 733 sqft UNDER CONSTRUCTION Poss. by Dec '24 TRANSACTION New Property FURNISHING Unfurnished BATHROOM 2  "
      ]
     },
     "execution_count": 4,
     "metadata": {},
     "output_type": "execute_result"
    }
   ],
   "source": [
    "df.head()"
   ]
  },
  {
   "cell_type": "code",
   "execution_count": 5,
   "id": "f1124e8b-dea0-4e7d-93eb-a1a7374400c4",
   "metadata": {},
   "outputs": [
    {
     "data": {
      "text/plain": [
       "(1080, 6)"
      ]
     },
     "execution_count": 5,
     "metadata": {},
     "output_type": "execute_result"
    }
   ],
   "source": [
    "df.shape"
   ]
  },
  {
   "cell_type": "code",
   "execution_count": 6,
   "id": "b1d41e08-c31b-453e-9c77-cc90336491ee",
   "metadata": {},
   "outputs": [],
   "source": [
    "# extracting data from title column\n",
    "\n",
    "# listing_id\n",
    "df['listing_id'] = df['Listing ID'] = df['Listing ID'].apply(lambda x: x.strip('cardid'))\n",
    "\n",
    "# neighbourhood\n",
    "df['neighbourhood'] = df['Title'].str.split(' ').str[-2]\n",
    "\n",
    "# city\n",
    "df['city'] = df['Title'].str.split(' ').str[-1]\n",
    "\n",
    "# no of rooms\n",
    "df['no_of_rooms'] = df['Title'].str.extract('([0-9]+ BHK)')"
   ]
  },
  {
   "cell_type": "code",
   "execution_count": 7,
   "id": "9f7ad733-c33f-462e-b0ab-278c5062c662",
   "metadata": {},
   "outputs": [],
   "source": [
    "# getting property type from title \n",
    "\n",
    "def get_property_type(title):\n",
    "    if 'Apartment' in title:\n",
    "        return 'Apartment'\n",
    "    elif 'Builder Floor' in title:\n",
    "        return 'Builder Floor'\n",
    "    elif 'Villa' in title:\n",
    "        return 'Villa'\n",
    "    elif 'Plot/Land' in title:\n",
    "        return 'Plot/Land'\n",
    "    elif 'House' in title:\n",
    "        return 'House'\n",
    "    elif 'Penthouse' in title:\n",
    "        return 'Penthouse'\n",
    "    else:\n",
    "        return None\n",
    "\n",
    "\n",
    "# property type \n",
    "df['property_type'] = df['Title'].apply(get_property_type)"
   ]
  },
  {
   "cell_type": "code",
   "execution_count": 8,
   "id": "340ee803-d46e-441e-b4b0-67991b142e6f",
   "metadata": {},
   "outputs": [],
   "source": [
    "# extracting data from summary column\n",
    "\n",
    "# status\n",
    "df['status'] = df['Summary'].apply(lambda x: 'Ready to Move' if 'Ready to Move' in x else 'UNDER CONSTRUCTION' if 'UNDER CONSTRUCTION' in x else None)\n",
    "\n",
    "# furnishing\n",
    "df['furnish'] = df['Summary'].str.split('FURNISHING ').str[1].str.split(' ').str[0]\n",
    "\n",
    "# total sqft\n",
    "df['total_sqft'] = df['Summary'].str.split(' sqft').str[0].str.split(' ').str[-1].replace('Pool', ).astype(int)\n",
    "\n",
    "# sale type \n",
    "df['sale_type'] = df['Summary'].str.extract('TRANSACTION (.*?) FURNISHING')\n",
    "\n",
    "# price per sqft\n",
    "df['price_per_sqft'] = df['Sq Ft Price'].str.replace('₹', '').str.replace(',', '').str.replace('Null', '0').str.split(' ').str[0].astype(int)"
   ]
  },
  {
   "cell_type": "code",
   "execution_count": 9,
   "id": "9ac82bbc-203f-4c15-b51c-e4e274e3fa38",
   "metadata": {},
   "outputs": [],
   "source": [
    "# price in thousands (k)\n",
    "def convert_to_thousands(x):\n",
    "    if 'Lac' in x:\n",
    "        x = x.replace('₹', '').replace('Lac', '')\n",
    "        x = float(x) * 100000\n",
    "    elif 'Cr' in x:\n",
    "        x = x.replace('₹', '').replace('Cr', '')\n",
    "        x = float(x) * 10000000\n",
    "    return x\n",
    "\n",
    "df[\"price (in 'k')\"] = df['Price'].apply(convert_to_thousands).div(1000).astype(int)"
   ]
  },
  {
   "cell_type": "code",
   "execution_count": 10,
   "id": "df7f6084-7b3d-41e5-bd9c-8c8252fcee71",
   "metadata": {},
   "outputs": [],
   "source": [
    "df = df.drop(['Listing ID', 'Title', 'Sq Ft Price','Summary', 'Description'], axis=1)"
   ]
  },
  {
   "cell_type": "code",
   "execution_count": 11,
   "id": "a4cfffa5-3a9e-4f71-8f81-76f5bab734ec",
   "metadata": {},
   "outputs": [],
   "source": [
    "# Rename column 'OLD_NAME' to 'new_name' for better use\n",
    "df = df.rename(columns={'Price': 'price'})"
   ]
  },
  {
   "cell_type": "code",
   "execution_count": 12,
   "id": "55dd5393-097d-41e2-81e0-b99a0d526524",
   "metadata": {},
   "outputs": [],
   "source": [
    "# column reorder\n",
    "df = df[['listing_id', 'city', 'neighbourhood', 'property_type', 'total_sqft','no_of_rooms', 'furnish', 'sale_type', 'status', 'price', \"price (in 'k')\", 'price_per_sqft']]"
   ]
  },
  {
   "cell_type": "code",
   "execution_count": 13,
   "id": "285adbb2-eb73-4b73-a3f6-2282073e4d02",
   "metadata": {},
   "outputs": [
    {
     "name": "stdout",
     "output_type": "stream",
     "text": [
      "<class 'pandas.core.frame.DataFrame'>\n",
      "RangeIndex: 1080 entries, 0 to 1079\n",
      "Data columns (total 12 columns):\n",
      " #   Column          Non-Null Count  Dtype \n",
      "---  ------          --------------  ----- \n",
      " 0   listing_id      1080 non-null   object\n",
      " 1   city            1080 non-null   object\n",
      " 2   neighbourhood   1080 non-null   object\n",
      " 3   property_type   1080 non-null   object\n",
      " 4   total_sqft      1080 non-null   int32 \n",
      " 5   no_of_rooms     781 non-null    object\n",
      " 6   furnish         183 non-null    object\n",
      " 7   sale_type       183 non-null    object\n",
      " 8   status          771 non-null    object\n",
      " 9   price           1080 non-null   object\n",
      " 10  price (in 'k')  1080 non-null   int32 \n",
      " 11  price_per_sqft  1080 non-null   int32 \n",
      "dtypes: int32(3), object(9)\n",
      "memory usage: 88.7+ KB\n"
     ]
    }
   ],
   "source": [
    "df.info()"
   ]
  },
  {
   "cell_type": "code",
   "execution_count": 14,
   "id": "3e25568d-25ef-4f6e-aa46-4f3af9fc6100",
   "metadata": {},
   "outputs": [
    {
     "data": {
      "text/plain": [
       "listing_id          0\n",
       "city                0\n",
       "neighbourhood       0\n",
       "property_type       0\n",
       "total_sqft          0\n",
       "no_of_rooms       299\n",
       "furnish           897\n",
       "sale_type         897\n",
       "status            309\n",
       "price               0\n",
       "price (in 'k')      0\n",
       "price_per_sqft      0\n",
       "dtype: int64"
      ]
     },
     "execution_count": 14,
     "metadata": {},
     "output_type": "execute_result"
    }
   ],
   "source": [
    "df.isnull().sum()"
   ]
  },
  {
   "cell_type": "code",
   "execution_count": 15,
   "id": "c056440b-e824-4b17-8124-f209946fea96",
   "metadata": {},
   "outputs": [],
   "source": [
    "# if property is under construction they may not decide whether they are going to furnish it or not it changed to under construction\n",
    "df.loc[df['status'] == 'UNDER CONSTRUCTION', 'furnish'] = 'under construction'\n",
    "df.loc[df['property_type'] == 'Plot/Land', 'furnish'] = 'n/a'"
   ]
  },
  {
   "cell_type": "code",
   "execution_count": 16,
   "id": "8314cb90-a06c-4e16-bb4b-74e900cb5ef3",
   "metadata": {},
   "outputs": [],
   "source": [
    "# property under constructions are comes under new property  \n",
    "df.loc[df['status'] == 'UNDER CONSTRUCTION', 'sale_type'] = 'New Property'\n",
    "df.loc[df['property_type'] == 'Plot/Land', 'sale_type'] = 'n/a'"
   ]
  },
  {
   "cell_type": "code",
   "execution_count": 17,
   "id": "adee9d69-e2be-4a8f-8f57-3b2a30d901c7",
   "metadata": {},
   "outputs": [],
   "source": [
    "# set status to n/a for no_of_rooms \n",
    "df.loc[df['property_type'] == 'Plot/Land', 'no_of_rooms'] = 'n/a'"
   ]
  },
  {
   "cell_type": "code",
   "execution_count": 18,
   "id": "41adc2de-f125-4a2f-b44a-93642cd42f14",
   "metadata": {},
   "outputs": [],
   "source": [
    "# set status to 'n/a' for Plot/Land and fill NaNs with most common status\n",
    "df.loc[df['property_type'] == 'Plot/Land', 'status'] = 'n/a'\n",
    "df['status'] = df['status'].fillna(df['status'].mode().max())"
   ]
  },
  {
   "cell_type": "code",
   "execution_count": 19,
   "id": "3ea30504-4840-452e-ac2f-fd6791dc6a7c",
   "metadata": {},
   "outputs": [],
   "source": [
    "# drop duplicates \n",
    "df = df.drop_duplicates()"
   ]
  },
  {
   "cell_type": "code",
   "execution_count": 20,
   "id": "72e614ec-1012-4853-9a3e-d09b0d7540fa",
   "metadata": {},
   "outputs": [
    {
     "data": {
      "text/plain": [
       "listing_id          0\n",
       "city                0\n",
       "neighbourhood       0\n",
       "property_type       0\n",
       "total_sqft          0\n",
       "no_of_rooms         1\n",
       "furnish           510\n",
       "sale_type         510\n",
       "status              0\n",
       "price               0\n",
       "price (in 'k')      0\n",
       "price_per_sqft      0\n",
       "dtype: int64"
      ]
     },
     "execution_count": 20,
     "metadata": {},
     "output_type": "execute_result"
    }
   ],
   "source": [
    "df.isnull().sum()"
   ]
  },
  {
   "cell_type": "code",
   "execution_count": 21,
   "id": "26288a1a-3da0-4b14-8769-bc2bbd80fce6",
   "metadata": {},
   "outputs": [],
   "source": [
    "# drop null values \n",
    "df.dropna(inplace=True)"
   ]
  },
  {
   "cell_type": "code",
   "execution_count": 22,
   "id": "c888bfa1-5efb-4b89-8f3b-1b8e8d033d4f",
   "metadata": {},
   "outputs": [
    {
     "data": {
      "text/plain": [
       "listing_id        0\n",
       "city              0\n",
       "neighbourhood     0\n",
       "property_type     0\n",
       "total_sqft        0\n",
       "no_of_rooms       0\n",
       "furnish           0\n",
       "sale_type         0\n",
       "status            0\n",
       "price             0\n",
       "price (in 'k')    0\n",
       "price_per_sqft    0\n",
       "dtype: int64"
      ]
     },
     "execution_count": 22,
     "metadata": {},
     "output_type": "execute_result"
    }
   ],
   "source": [
    "df.isnull().sum()"
   ]
  },
  {
   "cell_type": "code",
   "execution_count": 23,
   "id": "d845933e-ebb2-4718-b6ed-49727f22a249",
   "metadata": {},
   "outputs": [
    {
     "name": "stdout",
     "output_type": "stream",
     "text": [
      "<class 'pandas.core.frame.DataFrame'>\n",
      "Index: 540 entries, 0 to 1078\n",
      "Data columns (total 12 columns):\n",
      " #   Column          Non-Null Count  Dtype \n",
      "---  ------          --------------  ----- \n",
      " 0   listing_id      540 non-null    object\n",
      " 1   city            540 non-null    object\n",
      " 2   neighbourhood   540 non-null    object\n",
      " 3   property_type   540 non-null    object\n",
      " 4   total_sqft      540 non-null    int32 \n",
      " 5   no_of_rooms     540 non-null    object\n",
      " 6   furnish         540 non-null    object\n",
      " 7   sale_type       540 non-null    object\n",
      " 8   status          540 non-null    object\n",
      " 9   price           540 non-null    object\n",
      " 10  price (in 'k')  540 non-null    int32 \n",
      " 11  price_per_sqft  540 non-null    int32 \n",
      "dtypes: int32(3), object(9)\n",
      "memory usage: 48.5+ KB\n"
     ]
    }
   ],
   "source": [
    "df.info()"
   ]
  },
  {
   "cell_type": "code",
   "execution_count": 24,
   "id": "c953ca2b-42af-4214-a553-e2d289f505f6",
   "metadata": {},
   "outputs": [
    {
     "data": {
      "text/plain": [
       "(540, 12)"
      ]
     },
     "execution_count": 24,
     "metadata": {},
     "output_type": "execute_result"
    }
   ],
   "source": [
    "df.shape"
   ]
  },
  {
   "cell_type": "code",
   "execution_count": 25,
   "id": "37da27e6-2c86-437f-a1d5-ded4ab5e0e60",
   "metadata": {},
   "outputs": [
    {
     "data": {
      "text/html": [
       "<div>\n",
       "<style scoped>\n",
       "    .dataframe tbody tr th:only-of-type {\n",
       "        vertical-align: middle;\n",
       "    }\n",
       "\n",
       "    .dataframe tbody tr th {\n",
       "        vertical-align: top;\n",
       "    }\n",
       "\n",
       "    .dataframe thead th {\n",
       "        text-align: right;\n",
       "    }\n",
       "</style>\n",
       "<table border=\"1\" class=\"dataframe\">\n",
       "  <thead>\n",
       "    <tr style=\"text-align: right;\">\n",
       "      <th></th>\n",
       "      <th>listing_id</th>\n",
       "      <th>city</th>\n",
       "      <th>neighbourhood</th>\n",
       "      <th>property_type</th>\n",
       "      <th>total_sqft</th>\n",
       "      <th>no_of_rooms</th>\n",
       "      <th>furnish</th>\n",
       "      <th>sale_type</th>\n",
       "      <th>status</th>\n",
       "      <th>price</th>\n",
       "      <th>price (in 'k')</th>\n",
       "      <th>price_per_sqft</th>\n",
       "    </tr>\n",
       "  </thead>\n",
       "  <tbody>\n",
       "    <tr>\n",
       "      <th>0</th>\n",
       "      <td>71632357</td>\n",
       "      <td>Chennai</td>\n",
       "      <td>Kelambakkam</td>\n",
       "      <td>Apartment</td>\n",
       "      <td>997</td>\n",
       "      <td>2 BHK</td>\n",
       "      <td>Unfurnished</td>\n",
       "      <td>New Property</td>\n",
       "      <td>Ready to Move</td>\n",
       "      <td>₹ 39.9 Lac</td>\n",
       "      <td>3990</td>\n",
       "      <td>4000</td>\n",
       "    </tr>\n",
       "    <tr>\n",
       "      <th>1</th>\n",
       "      <td>73795355</td>\n",
       "      <td>Chennai</td>\n",
       "      <td>Mudichur</td>\n",
       "      <td>Builder Floor</td>\n",
       "      <td>873</td>\n",
       "      <td>2 BHK</td>\n",
       "      <td>under construction</td>\n",
       "      <td>New Property</td>\n",
       "      <td>UNDER CONSTRUCTION</td>\n",
       "      <td>₹ 50.6 Lac</td>\n",
       "      <td>5060</td>\n",
       "      <td>5800</td>\n",
       "    </tr>\n",
       "    <tr>\n",
       "      <th>2</th>\n",
       "      <td>72552613</td>\n",
       "      <td>Chennai</td>\n",
       "      <td>Kundrathur</td>\n",
       "      <td>Builder Floor</td>\n",
       "      <td>517</td>\n",
       "      <td>1 BHK</td>\n",
       "      <td>Semi-Furnished</td>\n",
       "      <td>New Property</td>\n",
       "      <td>Ready to Move</td>\n",
       "      <td>₹ 27.4 Lac</td>\n",
       "      <td>2740</td>\n",
       "      <td>5300</td>\n",
       "    </tr>\n",
       "    <tr>\n",
       "      <th>3</th>\n",
       "      <td>74193103</td>\n",
       "      <td>Chennai</td>\n",
       "      <td>Chettipunyam</td>\n",
       "      <td>Apartment</td>\n",
       "      <td>616</td>\n",
       "      <td>2 BHK</td>\n",
       "      <td>under construction</td>\n",
       "      <td>New Property</td>\n",
       "      <td>UNDER CONSTRUCTION</td>\n",
       "      <td>₹ 29.2 Lac</td>\n",
       "      <td>2920</td>\n",
       "      <td>4747</td>\n",
       "    </tr>\n",
       "    <tr>\n",
       "      <th>4</th>\n",
       "      <td>73511737</td>\n",
       "      <td>Chennai</td>\n",
       "      <td>Kovur</td>\n",
       "      <td>Apartment</td>\n",
       "      <td>733</td>\n",
       "      <td>2 BHK</td>\n",
       "      <td>under construction</td>\n",
       "      <td>New Property</td>\n",
       "      <td>UNDER CONSTRUCTION</td>\n",
       "      <td>₹ 47.7 Lac</td>\n",
       "      <td>4770</td>\n",
       "      <td>6504</td>\n",
       "    </tr>\n",
       "  </tbody>\n",
       "</table>\n",
       "</div>"
      ],
      "text/plain": [
       "  listing_id     city neighbourhood  property_type  total_sqft no_of_rooms  \\\n",
       "0   71632357  Chennai   Kelambakkam      Apartment         997       2 BHK   \n",
       "1   73795355  Chennai      Mudichur  Builder Floor         873       2 BHK   \n",
       "2   72552613  Chennai    Kundrathur  Builder Floor         517       1 BHK   \n",
       "3   74193103  Chennai  Chettipunyam      Apartment         616       2 BHK   \n",
       "4   73511737  Chennai         Kovur      Apartment         733       2 BHK   \n",
       "\n",
       "              furnish     sale_type              status       price  \\\n",
       "0         Unfurnished  New Property       Ready to Move  ₹ 39.9 Lac   \n",
       "1  under construction  New Property  UNDER CONSTRUCTION  ₹ 50.6 Lac   \n",
       "2      Semi-Furnished  New Property       Ready to Move  ₹ 27.4 Lac   \n",
       "3  under construction  New Property  UNDER CONSTRUCTION  ₹ 29.2 Lac   \n",
       "4  under construction  New Property  UNDER CONSTRUCTION  ₹ 47.7 Lac   \n",
       "\n",
       "   price (in 'k')  price_per_sqft  \n",
       "0            3990            4000  \n",
       "1            5060            5800  \n",
       "2            2740            5300  \n",
       "3            2920            4747  \n",
       "4            4770            6504  "
      ]
     },
     "execution_count": 25,
     "metadata": {},
     "output_type": "execute_result"
    }
   ],
   "source": [
    "df.head(5)"
   ]
  },
  {
   "cell_type": "code",
   "execution_count": 26,
   "id": "f933a4ca-7550-4421-96d2-dc63a1823203",
   "metadata": {},
   "outputs": [],
   "source": [
    "df.to_csv('cleaned_data.csv', index=False, header=True)"
   ]
  },
  {
   "cell_type": "code",
   "execution_count": null,
   "id": "b3ab0e1c-077a-4c94-82b4-196a0f51eba8",
   "metadata": {},
   "outputs": [],
   "source": []
  }
 ],
 "metadata": {
  "kernelspec": {
   "display_name": "Python 3 (ipykernel)",
   "language": "python",
   "name": "python3"
  },
  "language_info": {
   "codemirror_mode": {
    "name": "ipython",
    "version": 3
   },
   "file_extension": ".py",
   "mimetype": "text/x-python",
   "name": "python",
   "nbconvert_exporter": "python",
   "pygments_lexer": "ipython3",
   "version": "3.11.5"
  }
 },
 "nbformat": 4,
 "nbformat_minor": 5
}
